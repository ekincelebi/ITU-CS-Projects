{
 "cells": [
  {
   "cell_type": "code",
   "execution_count": 1,
   "metadata": {},
   "outputs": [],
   "source": [
    "from mpl_toolkits.mplot3d import Axes3D\n",
    "import numpy as np\n",
    "import matplotlib.pyplot as plt\n",
    "import pandas as pd\n",
    "import math\n",
    "from matplotlib.animation import FuncAnimation\n",
    "from IPython.display import HTML"
   ]
  },
  {
   "cell_type": "code",
   "execution_count": 46,
   "metadata": {},
   "outputs": [],
   "source": [
    "def gradient(w_in, c_in):\n",
    "    \n",
    "    product = np.multiply(np.dot(c_in, w_in), 2)\n",
    "    return product"
   ]
  },
  {
   "cell_type": "code",
   "execution_count": null,
   "metadata": {},
   "outputs": [],
   "source": [
    "def grad(w_in):\n",
    "    return b + ((c + c.transpose) @ w_in )"
   ]
  },
  {
   "cell_type": "code",
   "execution_count": 109,
   "metadata": {},
   "outputs": [],
   "source": [
    "a = 0\n",
    "\n",
    "b = np.array([[0], \n",
    "              [0]])\n",
    "c = np.array([[0.5, 0],\n",
    "              [0, 9.75]])\n",
    "\n",
    "def g(w_in):\n",
    "    return a + (b.transpose() @ w_in) + (w_in.transpose() @ c) @ w_in"
   ]
  },
  {
   "cell_type": "code",
   "execution_count": 110,
   "metadata": {},
   "outputs": [
    {
     "data": {
      "text/plain": [
       "array([[59.75]])"
      ]
     },
     "execution_count": 110,
     "metadata": {},
     "output_type": "execute_result"
    }
   ],
   "source": [
    "g(w_x)"
   ]
  },
  {
   "cell_type": "code",
   "execution_count": 111,
   "metadata": {},
   "outputs": [
    {
     "data": {
      "text/plain": [
       "9"
      ]
     },
     "execution_count": 111,
     "metadata": {},
     "output_type": "execute_result"
    }
   ],
   "source": [
    "3**2"
   ]
  },
  {
   "cell_type": "code",
   "execution_count": 105,
   "metadata": {},
   "outputs": [],
   "source": [
    "w_x = np.array([[10], \n",
    "                [1]]) \n",
    "ax = 0\n",
    "\n",
    "bx = np.array([[4], \n",
    "              [5]])\n",
    "cx = np.array([[0.5, 0],\n",
    "              [0, 9.75]])"
   ]
  },
  {
   "cell_type": "code",
   "execution_count": 102,
   "metadata": {},
   "outputs": [
    {
     "data": {
      "text/plain": [
       "array([[14],\n",
       "       [ 6]])"
      ]
     },
     "execution_count": 102,
     "metadata": {},
     "output_type": "execute_result"
    }
   ],
   "source": [
    "w_x + bx"
   ]
  },
  {
   "cell_type": "code",
   "execution_count": 98,
   "metadata": {},
   "outputs": [
    {
     "data": {
      "text/plain": [
       "array([[ 5.  , 19.75]])"
      ]
     },
     "execution_count": 98,
     "metadata": {},
     "output_type": "execute_result"
    }
   ],
   "source": [
    "w_x.transpose() @ cx"
   ]
  },
  {
   "cell_type": "code",
   "execution_count": 118,
   "metadata": {},
   "outputs": [],
   "source": [
    "def gradientDescentWithMomentum(beta = 0, num_iter=25, w_0 = None, a=0, b=np.zeros((2,1)), c = np.zeros((2,2)),lr = 0.1):\n",
    "\n",
    "    def grad(w_in):\n",
    "        return b + ((c + c.transpose()) @ w_in )\n",
    "    \n",
    "    w_history = [] #List of w's in each iteration, used to plot\n",
    "   \n",
    "    w = w_0\n",
    "    \n",
    "    w_history.append(w)\n",
    "    \n",
    "    for i in range(num_iter):\n",
    "        #Update momentum and w\n",
    "        #Add new w to list\n",
    "        \n",
    "        #this one is for when beta is 0\n",
    "        #grad_eval = grad(w, c)\n",
    "        grad_eval = grad(w)\n",
    "        \n",
    "        #update w\n",
    "        w = np.add(w, -(np.multiply(lr,grad_eval)))\n",
    "        \n",
    "        #record weight\n",
    "        w_history.append(w)\n",
    "        \n",
    "        pass\n",
    "    ### YOUR CODE ENDS HERE    \n",
    "        \n",
    "    return w, w_history\n",
    "    \n",
    "    ### YOUR CODE STARTS HERE"
   ]
  },
  {
   "cell_type": "code",
   "execution_count": 120,
   "metadata": {},
   "outputs": [
    {
     "data": {
      "text/plain": [
       "(array([[ 0.71789799],\n",
       "        [-0.27738957]]),\n",
       " [array([[10],\n",
       "         [ 1]]),\n",
       "  array([[ 9.  ],\n",
       "         [-0.95]]),\n",
       "  array([[8.1   ],\n",
       "         [0.9025]]),\n",
       "  array([[ 7.29    ],\n",
       "         [-0.857375]]),\n",
       "  array([[6.561     ],\n",
       "         [0.81450625]]),\n",
       "  array([[ 5.9049    ],\n",
       "         [-0.77378094]]),\n",
       "  array([[5.31441   ],\n",
       "         [0.73509189]]),\n",
       "  array([[ 4.782969 ],\n",
       "         [-0.6983373]]),\n",
       "  array([[4.3046721 ],\n",
       "         [0.66342043]]),\n",
       "  array([[ 3.87420489],\n",
       "         [-0.63024941]]),\n",
       "  array([[3.4867844 ],\n",
       "         [0.59873694]]),\n",
       "  array([[ 3.13810596],\n",
       "         [-0.56880009]]),\n",
       "  array([[2.82429536],\n",
       "         [0.54036009]]),\n",
       "  array([[ 2.54186583],\n",
       "         [-0.51334208]]),\n",
       "  array([[2.28767925],\n",
       "         [0.48767498]]),\n",
       "  array([[ 2.05891132],\n",
       "         [-0.46329123]]),\n",
       "  array([[1.85302019],\n",
       "         [0.44012667]]),\n",
       "  array([[ 1.66771817],\n",
       "         [-0.41812034]]),\n",
       "  array([[1.50094635],\n",
       "         [0.39721432]]),\n",
       "  array([[ 1.35085172],\n",
       "         [-0.3773536 ]]),\n",
       "  array([[1.21576655],\n",
       "         [0.35848592]]),\n",
       "  array([[ 1.09418989],\n",
       "         [-0.34056163]]),\n",
       "  array([[0.9847709 ],\n",
       "         [0.32353354]]),\n",
       "  array([[ 0.88629381],\n",
       "         [-0.30735687]]),\n",
       "  array([[0.79766443],\n",
       "         [0.29198902]]),\n",
       "  array([[ 0.71789799],\n",
       "         [-0.27738957]])])"
      ]
     },
     "execution_count": 120,
     "metadata": {},
     "output_type": "execute_result"
    }
   ],
   "source": [
    "w_x = np.array([[10], \n",
    "                [1]]) \n",
    "ax = 0\n",
    "\n",
    "bx = np.array([[0], \n",
    "              [0]])\n",
    "cx = np.array([[0.5, 0],\n",
    "              [0, 9.75]])\n",
    "\n",
    "gradientDescentWithMomentum(0,25,w_x,ax, bx, cx)"
   ]
  },
  {
   "cell_type": "code",
   "execution_count": 130,
   "metadata": {},
   "outputs": [],
   "source": [
    "w_0 = np.array([[10], \n",
    "                [1]]) \n",
    "### YOUR CODE STARTS FROM HERE\n",
    "#Coefficients of g(w)\n",
    "a = 0\n",
    "\n",
    "b = np.array([[0], \n",
    "              [0]])\n",
    "c = np.array([[0.5, 2],\n",
    "              [1, 9.75]])\n",
    "\n"
   ]
  },
  {
   "cell_type": "code",
   "execution_count": 133,
   "metadata": {},
   "outputs": [],
   "source": [
    "def NewtonsMethodwithSubSampling(num_iter=25, w_0 = None, a=0, b=np.zeros((2,1)), c = np.zeros((2,2))):\n",
    "    '''\n",
    "        num_iter = number of iterations in gradient descent\n",
    "        w_0: initial w\n",
    "        a, b, c: coefficients of the function\n",
    "    '''\n",
    "    #Initialize variables\n",
    "    w_history = [] #List of w's in each iteration, used to plot\n",
    "    epsilon = 1e-6 # Add it to denominator to avoid division by zero\n",
    "    \n",
    "    if w_0 is not None: #Initial w\n",
    "        w = w_0\n",
    "    else:\n",
    "        w = np.random.rand(2,1) #If no w_0 is given, initialize it randomly between [0, 1]\n",
    "    \n",
    "    ### YOUR CODE STARTS FROM HERE\n",
    "    \n",
    "    \n",
    "   \n",
    "    \n",
    "    \n",
    "    # You may want to code the g(w) and gradient functions here or compute the gradients at each step, it is up to you.\n",
    "    \n",
    "    def gradient2(w_in):\n",
    "        return b + ((c + c.transpose()) @ w_in )\n",
    "    \n",
    "    def newtons2(w_in): \n",
    "        temp = np.array([[0.5/(c[0][0]+epsilon), 0],\n",
    "                         [0, 0.5/(c[1][1]+epsilon)]])\n",
    "        \n",
    "        w_temp = gradient2(w_in)\n",
    "        \n",
    "        return temp @ w_temp \n",
    "    \n",
    "    def gradient(w_in, c_in, b_in):\n",
    "        temp = np.zeros((2,1))\n",
    "        temp[0] = b_in[0] + (2*(w_in[0]*c_in[0][0])) + ((c_in[0][1]*c_in[1][0])*w_in[1])\n",
    "        temp[1] = b_in[1] + (2*(w_in[1]*c_in[1][1])) + ((c_in[0][1]*c_in[1][0])*w_in[0])\n",
    "        return temp\n",
    "    \n",
    "    def second_deriv(c_in,eps):\n",
    "        temp = np.zeros((2,1))\n",
    "        temp[0] = (2*c_in[0][0])+eps\n",
    "        temp[1] = (2*c_in[1][1])+eps\n",
    "        return temp\n",
    "    \n",
    "    def newtons(numerator,denominator):\n",
    "        temp = np.zeros((2,1))\n",
    "        temp[0] = numerator[0]/denominator[0]\n",
    "        temp[1] = numerator[1]/denominator[1]\n",
    "        return temp\n",
    "        \n",
    "      \n",
    "        \n",
    "    #Calculate gradients of initial w_0 (Don't forget to add w_0 to w_history list!)\n",
    "    \n",
    "    \n",
    "    \n",
    "    #Newton's Method steps\n",
    "    \n",
    "    w_history.append(w)   \n",
    "    \n",
    "    for i in range(num_iter):\n",
    "        #Update w, add w to w_history\n",
    "        \n",
    "        #grad_eval = gradient(w,c,b)\n",
    "        \n",
    "        #stopping condition\n",
    "        #if (grad_eval[0]*grad_eval[0])+(grad_eval[1]*grad_eval[1]) <= 0.001:\n",
    "            #break\n",
    "        \n",
    "        #update w\n",
    "        #w = np.add(w, -(newtons(gradient(w,c,b),second_deriv(c,epsilon))))\n",
    "        w = w - newtons2(w)\n",
    "        #record weight\n",
    "        w_history.append(w)\n",
    "        \n",
    "        pass\n",
    " \n",
    "    \n",
    "    \n",
    "        \n",
    "    ### YOUR CODE ENDS HERE\n",
    "    return w, w_history"
   ]
  },
  {
   "cell_type": "code",
   "execution_count": 460,
   "metadata": {},
   "outputs": [],
   "source": [
    "arr1, arr2 = NewtonsMethodwithSubSampling(25, w_0, a, b, c)"
   ]
  },
  {
   "cell_type": "code",
   "execution_count": 490,
   "metadata": {},
   "outputs": [
    {
     "data": {
      "text/plain": [
       "array([[[ 1.00000000e+01],\n",
       "        [ 1.00000000e+00]],\n",
       "\n",
       "       [[-2.99997400e+00],\n",
       "        [-1.53846128e+00]],\n",
       "\n",
       "       [[ 4.61536860e+00],\n",
       "        [ 4.61534256e-01]],\n",
       "\n",
       "       [[-1.38459077e+00],\n",
       "        [-7.10056588e-01]],\n",
       "\n",
       "       [[ 2.13016273e+00],\n",
       "        [ 2.13013870e-01]],\n",
       "\n",
       "       [[-6.39036071e-01],\n",
       "        [-3.27717288e-01]],\n",
       "\n",
       "       [[ 9.83148621e-01],\n",
       "        [ 9.83131980e-02]],\n",
       "\n",
       "       [[-2.94937038e-01],\n",
       "        [-1.51253608e-01]],\n",
       "\n",
       "       [[ 4.53759328e-01],\n",
       "        [ 4.53749087e-02]],\n",
       "\n",
       "       [[-1.36123546e-01],\n",
       "        [-6.98091155e-02]],\n",
       "\n",
       "       [[ 2.09426655e-01],\n",
       "        [ 2.09420748e-02]],\n",
       "\n",
       "       [[-6.28256798e-02],\n",
       "        [-3.22194800e-02]],\n",
       "\n",
       "       [[ 9.66581210e-02],\n",
       "        [ 9.66548490e-03]],\n",
       "\n",
       "       [[-2.89962034e-02],\n",
       "        [-1.48704776e-02]],\n",
       "\n",
       "       [[ 4.46112857e-02],\n",
       "        [ 4.46095239e-03]],\n",
       "\n",
       "       [[-1.33827412e-02],\n",
       "        [-6.86327356e-03]],\n",
       "\n",
       "       [[ 2.05897527e-02],\n",
       "        [ 2.05888234e-03]],\n",
       "\n",
       "       [[-6.17659349e-03],\n",
       "        [-3.16765373e-03]],\n",
       "\n",
       "       [[ 9.50292984e-03],\n",
       "        [ 9.50244730e-04]],\n",
       "\n",
       "       [[-2.85070948e-03],\n",
       "        [-1.46198896e-03]],\n",
       "\n",
       "       [[ 4.38595240e-03],\n",
       "        [ 4.38570495e-04]],\n",
       "\n",
       "       [[-1.31570008e-03],\n",
       "        [-6.74761794e-04]],\n",
       "\n",
       "       [[ 2.02427870e-03],\n",
       "        [ 2.02415307e-04]],\n",
       "\n",
       "       [[-6.07240658e-04],\n",
       "        [-3.11427440e-04]],\n",
       "\n",
       "       [[ 9.34279237e-04],\n",
       "        [ 9.34215982e-05]],\n",
       "\n",
       "       [[-2.80262366e-04],\n",
       "        [-1.43735243e-04]]])"
      ]
     },
     "execution_count": 490,
     "metadata": {},
     "output_type": "execute_result"
    }
   ],
   "source": [
    "arrays = np.array(arr2)\n",
    "arrays"
   ]
  },
  {
   "cell_type": "code",
   "execution_count": 481,
   "metadata": {},
   "outputs": [
    {
     "data": {
      "text/plain": [
       "-2.999974000051999"
      ]
     },
     "execution_count": 481,
     "metadata": {},
     "output_type": "execute_result"
    }
   ],
   "source": [
    "x"
   ]
  },
  {
   "cell_type": "code",
   "execution_count": 494,
   "metadata": {},
   "outputs": [
    {
     "data": {
      "text/plain": [
       "[<matplotlib.lines.Line2D at 0x11a254990>]"
      ]
     },
     "execution_count": 494,
     "metadata": {},
     "output_type": "execute_result"
    },
    {
     "data": {
      "image/png": "[encoded data removed]",
      "text/plain": [
       "<Figure size 432x288 with 1 Axes>"
      ]
     },
     "metadata": {
      "needs_background": "light"
     },
     "output_type": "display_data"
    }
   ],
   "source": [
    "xs = []\n",
    "ys = []\n",
    " \n",
    "for i in range(25):\n",
    "    x = arrays[i][0]\n",
    "    y = arrays[i][1]\n",
    "    xs.append(x)\n",
    "    ys.append(y)\n",
    "        \n",
    "        #ax.plot(xs, ys)\n",
    "plt.plot(xs,ys, 'ro-')"
   ]
  },
  {
   "cell_type": "code",
   "execution_count": 117,
   "metadata": {},
   "outputs": [
    {
     "ename": "TypeError",
     "evalue": "unsupported operand type(s) for +: 'float' and 'builtin_function_or_method'",
     "output_type": "error",
     "traceback": [
      "\u001b[0;31m---------------------------------------------------------------------------\u001b[0m",
      "\u001b[0;31mTypeError\u001b[0m                                 Traceback (most recent call last)",
      "\u001b[0;32m<ipython-input-117-67b370aa8e59>\u001b[0m in \u001b[0;36m<module>\u001b[0;34m\u001b[0m\n\u001b[0;32m----> 1\u001b[0;31m \u001b[0mgradientDescentWithMomentum\u001b[0m\u001b[0;34m(\u001b[0m\u001b[0;36m0\u001b[0m\u001b[0;34m,\u001b[0m\u001b[0;36m25\u001b[0m\u001b[0;34m,\u001b[0m\u001b[0mw_x\u001b[0m\u001b[0;34m,\u001b[0m\u001b[0max\u001b[0m\u001b[0;34m,\u001b[0m \u001b[0mbx\u001b[0m\u001b[0;34m,\u001b[0m \u001b[0mcx\u001b[0m\u001b[0;34m)\u001b[0m\u001b[0;34m\u001b[0m\u001b[0;34m\u001b[0m\u001b[0m\n\u001b[0m",
      "\u001b[0;32m<ipython-input-116-ffded4bcdefb>\u001b[0m in \u001b[0;36mgradientDescentWithMomentum\u001b[0;34m(beta, num_iter, w_0, a, b, c, lr)\u001b[0m\n\u001b[1;32m     16\u001b[0m         \u001b[0;31m#this one is for when beta is 0\u001b[0m\u001b[0;34m\u001b[0m\u001b[0;34m\u001b[0m\u001b[0;34m\u001b[0m\u001b[0m\n\u001b[1;32m     17\u001b[0m         \u001b[0;31m#grad_eval = grad(w, c)\u001b[0m\u001b[0;34m\u001b[0m\u001b[0;34m\u001b[0m\u001b[0;34m\u001b[0m\u001b[0m\n\u001b[0;32m---> 18\u001b[0;31m         \u001b[0mgrad_eval\u001b[0m \u001b[0;34m=\u001b[0m \u001b[0mgrad\u001b[0m\u001b[0;34m(\u001b[0m\u001b[0mw\u001b[0m\u001b[0;34m)\u001b[0m\u001b[0;34m\u001b[0m\u001b[0;34m\u001b[0m\u001b[0m\n\u001b[0m\u001b[1;32m     19\u001b[0m \u001b[0;34m\u001b[0m\u001b[0m\n\u001b[1;32m     20\u001b[0m         \u001b[0;31m#update w\u001b[0m\u001b[0;34m\u001b[0m\u001b[0;34m\u001b[0m\u001b[0;34m\u001b[0m\u001b[0m\n",
      "\u001b[0;32m<ipython-input-116-ffded4bcdefb>\u001b[0m in \u001b[0;36mgrad\u001b[0;34m(w_in)\u001b[0m\n\u001b[1;32m      2\u001b[0m \u001b[0;34m\u001b[0m\u001b[0m\n\u001b[1;32m      3\u001b[0m     \u001b[0;32mdef\u001b[0m \u001b[0mgrad\u001b[0m\u001b[0;34m(\u001b[0m\u001b[0mw_in\u001b[0m\u001b[0;34m)\u001b[0m\u001b[0;34m:\u001b[0m\u001b[0;34m\u001b[0m\u001b[0;34m\u001b[0m\u001b[0m\n\u001b[0;32m----> 4\u001b[0;31m         \u001b[0;32mreturn\u001b[0m \u001b[0mb\u001b[0m \u001b[0;34m+\u001b[0m \u001b[0;34m(\u001b[0m\u001b[0;34m(\u001b[0m\u001b[0mc\u001b[0m \u001b[0;34m+\u001b[0m \u001b[0mc\u001b[0m\u001b[0;34m.\u001b[0m\u001b[0mtranspose\u001b[0m\u001b[0;34m)\u001b[0m \u001b[0;34m@\u001b[0m \u001b[0mw_in\u001b[0m \u001b[0;34m)\u001b[0m\u001b[0;34m\u001b[0m\u001b[0;34m\u001b[0m\u001b[0m\n\u001b[0m\u001b[1;32m      5\u001b[0m \u001b[0;34m\u001b[0m\u001b[0m\n\u001b[1;32m      6\u001b[0m     \u001b[0mw_history\u001b[0m \u001b[0;34m=\u001b[0m \u001b[0;34m[\u001b[0m\u001b[0;34m]\u001b[0m \u001b[0;31m#List of w's in each iteration, used to plot\u001b[0m\u001b[0;34m\u001b[0m\u001b[0;34m\u001b[0m\u001b[0m\n",
      "\u001b[0;31mTypeError\u001b[0m: unsupported operand type(s) for +: 'float' and 'builtin_function_or_method'"
     ]
    }
   ],
   "source": [
    "gradientDescentWithMomentum(0,25,w_x,ax, bx, cx)"
   ]
  },
  {
   "cell_type": "code",
   "execution_count": 64,
   "metadata": {},
   "outputs": [
    {
     "name": "stdout",
     "output_type": "stream",
     "text": [
      "0.0\n",
      "0.2\n",
      "0.7\n"
     ]
    }
   ],
   "source": [
    "beta_param = np.array([0, 0.2, 0.7])\n",
    "num_of_runs = 3\n",
    "for i in range(num_of_runs):\n",
    "    print(beta_param[i])"
   ]
  },
  {
   "cell_type": "code",
   "execution_count": 391,
   "metadata": {},
   "outputs": [],
   "source": [
    "def load_data(csvname):\n",
    "    data = np.asarray(pd.read_csv(csvname,header = None))\n",
    "    x = data[:,0]\n",
    "    x.shape = (np.size(x),1)\n",
    "    temp = np.ones((np.size(x),1))\n",
    "    X = np.concatenate((temp,x),1)\n",
    "    y = data[:,1]\n",
    "    y = y/y.max()\n",
    "    y.shape = (np.size(y),1)\n",
    "    return X,y"
   ]
  },
  {
   "cell_type": "code",
   "execution_count": 392,
   "metadata": {},
   "outputs": [],
   "source": [
    "X,y = load_data('bacteria_data.csv') "
   ]
  },
  {
   "cell_type": "code",
   "execution_count": 393,
   "metadata": {},
   "outputs": [],
   "source": [
    "def compute_cost(w):\n",
    "    temp = 1/(1 + my_exp(-np.dot(X,w))) - y\n",
    "    temp = np.dot(temp.T,temp)\n",
    "    return temp\n",
    "\n",
    "# avoid overflow when using exp - just cutoff after arguments get too large/small\n",
    "def my_exp(u):\n",
    "    s = np.argwhere(u > 100)\n",
    "    t = np.argwhere(u < -100)\n",
    "    u[s] = 0\n",
    "    u[t] = 0\n",
    "    u = np.exp(u)\n",
    "    u[t] = 1\n",
    "    return u"
   ]
  },
  {
   "cell_type": "code",
   "execution_count": 394,
   "metadata": {},
   "outputs": [
    {
     "data": {
      "text/plain": [
       "array([[ 1.,  0.],\n",
       "       [ 1.,  3.],\n",
       "       [ 1.,  6.],\n",
       "       [ 1.,  9.],\n",
       "       [ 1., 12.],\n",
       "       [ 1., 15.],\n",
       "       [ 1., 18.],\n",
       "       [ 1., 21.],\n",
       "       [ 1., 24.]])"
      ]
     },
     "execution_count": 394,
     "metadata": {},
     "output_type": "execute_result"
    }
   ],
   "source": [
    "X"
   ]
  },
  {
   "cell_type": "code",
   "execution_count": 397,
   "metadata": {},
   "outputs": [
    {
     "data": {
      "text/plain": [
       "0.7589"
      ]
     },
     "execution_count": 397,
     "metadata": {},
     "output_type": "execute_result"
    }
   ],
   "source": [
    "y[5][0]"
   ]
  },
  {
   "cell_type": "code",
   "execution_count": 396,
   "metadata": {},
   "outputs": [
    {
     "data": {
      "text/plain": [
       "array([[0.06274 ],\n",
       "       [0.078356],\n",
       "       [0.13781 ],\n",
       "       [0.28356 ],\n",
       "       [0.56712 ],\n",
       "       [0.7589  ],\n",
       "       [0.90959 ],\n",
       "       [1.      ],\n",
       "       [0.98904 ]])"
      ]
     },
     "execution_count": 396,
     "metadata": {},
     "output_type": "execute_result"
    }
   ],
   "source": [
    "y"
   ]
  },
  {
   "cell_type": "code",
   "execution_count": 457,
   "metadata": {},
   "outputs": [],
   "source": [
    "w = np.array([0,2])\n",
    "w1 = np.array([[0],\n",
    "               [2]])\n",
    "\n",
    "w0.shape = (2,1)"
   ]
  },
  {
   "cell_type": "code",
   "execution_count": 458,
   "metadata": {},
   "outputs": [],
   "source": [
    "w_temp = w1\n",
    "w_temp[0] = 0"
   ]
  },
  {
   "cell_type": "code",
   "execution_count": 459,
   "metadata": {},
   "outputs": [
    {
     "data": {
      "text/plain": [
       "array([[0],\n",
       "       [2]])"
      ]
     },
     "execution_count": 459,
     "metadata": {},
     "output_type": "execute_result"
    }
   ],
   "source": [
    "w_temp"
   ]
  },
  {
   "cell_type": "code",
   "execution_count": 433,
   "metadata": {},
   "outputs": [
    {
     "data": {
      "text/plain": [
       "(2, 1)"
      ]
     },
     "execution_count": 433,
     "metadata": {},
     "output_type": "execute_result"
    }
   ],
   "source": [
    "w1.shape"
   ]
  },
  {
   "cell_type": "code",
   "execution_count": 398,
   "metadata": {},
   "outputs": [
    {
     "data": {
      "text/plain": [
       "36.0"
      ]
     },
     "execution_count": 398,
     "metadata": {},
     "output_type": "execute_result"
    }
   ],
   "source": [
    "X[6] @ w"
   ]
  },
  {
   "cell_type": "code",
   "execution_count": 399,
   "metadata": {},
   "outputs": [
    {
     "data": {
      "text/plain": [
       "array([[1.27546623, 1.13261816, 1.13191   , 1.13190824, 1.13190823,\n",
       "        1.13190823, 1.13190823, 1.13190823, 1.13190823],\n",
       "       [1.13261816, 3.21757151, 3.22790761, 3.2279333 , 3.22793336,\n",
       "        3.22793336, 3.22793336, 3.22793336, 3.22793336],\n",
       "       [1.13191   , 3.22790761, 3.23829847, 3.23832429, 3.23832435,\n",
       "        3.23832435, 3.23832435, 3.23832435, 3.23832435],\n",
       "       [1.13190824, 3.2279333 , 3.23832429, 3.23835011, 3.23835017,\n",
       "        3.23835017, 3.23835017, 3.23835017, 3.23835017],\n",
       "       [1.13190823, 3.22793336, 3.23832435, 3.23835017, 3.23835023,\n",
       "        3.23835023, 3.23835023, 3.23835023, 3.23835023],\n",
       "       [1.13190823, 3.22793336, 3.23832435, 3.23835017, 3.23835023,\n",
       "        3.23835023, 3.23835023, 3.23835023, 3.23835023],\n",
       "       [1.13190823, 3.22793336, 3.23832435, 3.23835017, 3.23835023,\n",
       "        3.23835023, 3.23835023, 3.23835023, 3.23835023],\n",
       "       [1.13190823, 3.22793336, 3.23832435, 3.23835017, 3.23835023,\n",
       "        3.23835023, 3.23835023, 3.23835023, 3.23835023],\n",
       "       [1.13190823, 3.22793336, 3.23832435, 3.23835017, 3.23835023,\n",
       "        3.23835023, 3.23835023, 3.23835023, 3.23835023]])"
      ]
     },
     "execution_count": 399,
     "metadata": {},
     "output_type": "execute_result"
    }
   ],
   "source": [
    "compute_cost(w)"
   ]
  },
  {
   "cell_type": "code",
   "execution_count": 407,
   "metadata": {},
   "outputs": [],
   "source": [
    "r=np.zeros((1,len(X)))"
   ]
  },
  {
   "cell_type": "code",
   "execution_count": 410,
   "metadata": {},
   "outputs": [
    {
     "data": {
      "text/plain": [
       "0.0"
      ]
     },
     "execution_count": 410,
     "metadata": {},
     "output_type": "execute_result"
    }
   ],
   "source": [
    "r[0][6]"
   ]
  },
  {
   "cell_type": "code",
   "execution_count": 445,
   "metadata": {},
   "outputs": [],
   "source": [
    "def sigmoid(x):\n",
    "    return 1 / (1 + math.exp(-x))\n",
    "\n",
    "r=np.zeros((len(X),1))\n",
    "for i in range(len(X)):\n",
    "    param = X[i] @ w\n",
    "    sigm = sigmoid(param)\n",
    "    arg = 2 * (sigm-y[5][0])* sigm * (1 - sigm)\n",
    "    r[i] = arg\n",
    "    \n",
    "    \n",
    " \n",
    "    \n",
    "    \n"
   ]
  },
  {
   "cell_type": "code",
   "execution_count": 446,
   "metadata": {},
   "outputs": [
    {
     "data": {
      "text/plain": [
       "array([[ 1.,  0.],\n",
       "       [ 1.,  3.],\n",
       "       [ 1.,  6.],\n",
       "       [ 1.,  9.],\n",
       "       [ 1., 12.],\n",
       "       [ 1., 15.],\n",
       "       [ 1., 18.],\n",
       "       [ 1., 21.],\n",
       "       [ 1., 24.]])"
      ]
     },
     "execution_count": 446,
     "metadata": {},
     "output_type": "execute_result"
    }
   ],
   "source": [
    "X"
   ]
  },
  {
   "cell_type": "code",
   "execution_count": 447,
   "metadata": {},
   "outputs": [
    {
     "data": {
      "text/plain": [
       "array([[-1.29450000e-01],\n",
       "       [ 1.17715328e-03],\n",
       "       [ 2.96262729e-06],\n",
       "       [ 7.34389554e-09],\n",
       "       [ 1.82037046e-11],\n",
       "       [ 4.50764315e-14],\n",
       "       [ 1.07069908e-16],\n",
       "       [ 0.00000000e+00],\n",
       "       [ 0.00000000e+00]])"
      ]
     },
     "execution_count": 447,
     "metadata": {},
     "output_type": "execute_result"
    }
   ],
   "source": [
    "r"
   ]
  },
  {
   "cell_type": "code",
   "execution_count": 448,
   "metadata": {},
   "outputs": [],
   "source": [
    "result = X.transpose() @ r"
   ]
  },
  {
   "cell_type": "code",
   "execution_count": 449,
   "metadata": {},
   "outputs": [
    {
     "data": {
      "text/plain": [
       "array([[-0.12826988],\n",
       "       [ 0.0035493 ]])"
      ]
     },
     "execution_count": 449,
     "metadata": {},
     "output_type": "execute_result"
    }
   ],
   "source": [
    "result"
   ]
  },
  {
   "cell_type": "code",
   "execution_count": 450,
   "metadata": {},
   "outputs": [
    {
     "data": {
      "text/plain": [
       "(2, 1)"
      ]
     },
     "execution_count": 450,
     "metadata": {},
     "output_type": "execute_result"
    }
   ],
   "source": [
    "result.shape"
   ]
  },
  {
   "cell_type": "code",
   "execution_count": 451,
   "metadata": {},
   "outputs": [
    {
     "data": {
      "text/plain": [
       "array([0.0035493])"
      ]
     },
     "execution_count": 451,
     "metadata": {},
     "output_type": "execute_result"
    }
   ],
   "source": [
    "result[1]"
   ]
  },
  {
   "cell_type": "code",
   "execution_count": 421,
   "metadata": {},
   "outputs": [
    {
     "data": {
      "text/plain": [
       "array([[-0.12826988,  0.0035493 ]])"
      ]
     },
     "execution_count": 421,
     "metadata": {},
     "output_type": "execute_result"
    }
   ],
   "source": [
    "result.transpose()"
   ]
  },
  {
   "cell_type": "code",
   "execution_count": 321,
   "metadata": {},
   "outputs": [
    {
     "data": {
      "text/plain": [
       "array([ -4.70249632, -38.53433546])"
      ]
     },
     "execution_count": 321,
     "metadata": {},
     "output_type": "execute_result"
    }
   ],
   "source": [
    "X.transpose() @ r"
   ]
  },
  {
   "cell_type": "code",
   "execution_count": 325,
   "metadata": {},
   "outputs": [
    {
     "data": {
      "text/plain": [
       "array([0.04702496, 2.38534335])"
      ]
     },
     "execution_count": 325,
     "metadata": {},
     "output_type": "execute_result"
    }
   ],
   "source": [
    "w"
   ]
  },
  {
   "cell_type": "code",
   "execution_count": 440,
   "metadata": {},
   "outputs": [],
   "source": [
    "alpha = 10**(-2)        \n",
    "        \n",
    "grad = X.transpose() @ r\n",
    "        \n",
    "        # take gradient step\n",
    "#w = w - alpha*grad"
   ]
  },
  {
   "cell_type": "code",
   "execution_count": 444,
   "metadata": {},
   "outputs": [
    {
     "data": {
      "text/plain": [
       "array([[-0.12826988],\n",
       "       [ 0.0035493 ]])"
      ]
     },
     "execution_count": 444,
     "metadata": {},
     "output_type": "execute_result"
    }
   ],
   "source": [
    "grad"
   ]
  },
  {
   "cell_type": "code",
   "execution_count": 443,
   "metadata": {},
   "outputs": [
    {
     "data": {
      "text/plain": [
       "array([0.0035493])"
      ]
     },
     "execution_count": 443,
     "metadata": {},
     "output_type": "execute_result"
    }
   ],
   "source": [
    "grad[1]\n"
   ]
  },
  {
   "cell_type": "code",
   "execution_count": null,
   "metadata": {},
   "outputs": [],
   "source": []
  }
 ],
 "metadata": {
  "kernelspec": {
   "display_name": "Python 3",
   "language": "python",
   "name": "python3"
  },
  "language_info": {
   "codemirror_mode": {
    "name": "ipython",
    "version": 3
   },
   "file_extension": ".py",
   "mimetype": "text/x-python",
   "name": "python",
   "nbconvert_exporter": "python",
   "pygments_lexer": "ipython3",
   "version": "3.7.6"
  }
 },
 "nbformat": 4,
 "nbformat_minor": 4
}
